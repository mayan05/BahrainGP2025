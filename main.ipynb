{
 "cells": [
  {
   "cell_type": "code",
   "execution_count": 75,
   "metadata": {},
   "outputs": [],
   "source": [
    "import os\n",
    "import fastf1 as ff1\n",
    "import pandas as pd \n",
    "import numpy as np\n",
    "import pandas as pd"
   ]
  },
  {
   "cell_type": "markdown",
   "metadata": {},
   "source": [
    "Getting details from 2024 Bahrain Grand Prix"
   ]
  },
  {
   "cell_type": "code",
   "execution_count": null,
   "metadata": {},
   "outputs": [],
   "source": [
    "if not os.path.exists('./f1_cache'):\n",
    "    os.makedirs('./f1_cache')\n",
    "    ff1.Cache.enable_cache('./f1_cache')\n",
    "\n",
    "session = ff1.get_session(2024, 'Bahrain', 'R')\n",
    "session.load()"
   ]
  },
  {
   "cell_type": "code",
   "execution_count": 77,
   "metadata": {},
   "outputs": [
    {
     "data": {
      "text/html": [
       "<div>\n",
       "<style scoped>\n",
       "    .dataframe tbody tr th:only-of-type {\n",
       "        vertical-align: middle;\n",
       "    }\n",
       "\n",
       "    .dataframe tbody tr th {\n",
       "        vertical-align: top;\n",
       "    }\n",
       "\n",
       "    .dataframe thead th {\n",
       "        text-align: right;\n",
       "    }\n",
       "</style>\n",
       "<table border=\"1\" class=\"dataframe\">\n",
       "  <thead>\n",
       "    <tr style=\"text-align: right;\">\n",
       "      <th></th>\n",
       "      <th>Driver</th>\n",
       "      <th>LapTime</th>\n",
       "      <th>Sector1Time</th>\n",
       "      <th>Sector2Time</th>\n",
       "      <th>Sector3Time</th>\n",
       "    </tr>\n",
       "  </thead>\n",
       "  <tbody>\n",
       "    <tr>\n",
       "      <th>0</th>\n",
       "      <td>ALB</td>\n",
       "      <td>98.511214</td>\n",
       "      <td>31.880364</td>\n",
       "      <td>42.436839</td>\n",
       "      <td>24.129321</td>\n",
       "    </tr>\n",
       "    <tr>\n",
       "      <th>1</th>\n",
       "      <td>ALO</td>\n",
       "      <td>97.888228</td>\n",
       "      <td>31.710143</td>\n",
       "      <td>42.104842</td>\n",
       "      <td>24.028702</td>\n",
       "    </tr>\n",
       "    <tr>\n",
       "      <th>2</th>\n",
       "      <td>BOT</td>\n",
       "      <td>98.503745</td>\n",
       "      <td>31.559370</td>\n",
       "      <td>42.522339</td>\n",
       "      <td>24.249911</td>\n",
       "    </tr>\n",
       "    <tr>\n",
       "      <th>3</th>\n",
       "      <td>GAS</td>\n",
       "      <td>98.877839</td>\n",
       "      <td>32.366545</td>\n",
       "      <td>42.159696</td>\n",
       "      <td>24.230589</td>\n",
       "    </tr>\n",
       "    <tr>\n",
       "      <th>4</th>\n",
       "      <td>HAM</td>\n",
       "      <td>97.457298</td>\n",
       "      <td>31.525643</td>\n",
       "      <td>42.031789</td>\n",
       "      <td>23.836807</td>\n",
       "    </tr>\n",
       "  </tbody>\n",
       "</table>\n",
       "</div>"
      ],
      "text/plain": [
       "  Driver    LapTime  Sector1Time  Sector2Time  Sector3Time\n",
       "0    ALB  98.511214    31.880364    42.436839    24.129321\n",
       "1    ALO  97.888228    31.710143    42.104842    24.028702\n",
       "2    BOT  98.503745    31.559370    42.522339    24.249911\n",
       "3    GAS  98.877839    32.366545    42.159696    24.230589\n",
       "4    HAM  97.457298    31.525643    42.031789    23.836807"
      ]
     },
     "execution_count": 77,
     "metadata": {},
     "output_type": "execute_result"
    }
   ],
   "source": [
    "laps2024 = session.laps[['Driver', 'LapTime', 'Sector1Time', 'Sector2Time', 'Sector3Time']].copy()\n",
    "\n",
    "# Convert columns to timedelta\n",
    "laps2024['LapTime'] = pd.to_timedelta(laps2024['LapTime'])\n",
    "laps2024['Sector1Time'] = pd.to_timedelta(laps2024['Sector1Time'])\n",
    "laps2024['Sector2Time'] = pd.to_timedelta(laps2024['Sector2Time'])\n",
    "laps2024['Sector3Time'] = pd.to_timedelta(laps2024['Sector3Time'])\n",
    "\n",
    "# Convert timedelta to total seconds\n",
    "laps2024['LapTime'] = laps2024['LapTime'].dt.total_seconds()\n",
    "laps2024['Sector1Time'] = laps2024['Sector1Time'].dt.total_seconds()\n",
    "laps2024['Sector2Time'] = laps2024['Sector2Time'].dt.total_seconds()\n",
    "laps2024['Sector3Time'] = laps2024['Sector3Time'].dt.total_seconds()\n",
    "\n",
    "laps2024 = laps2024.groupby('Driver')[['LapTime', 'Sector1Time', 'Sector2Time', 'Sector3Time']].mean().reset_index()\n",
    "\n",
    "laps2024.head()"
   ]
  },
  {
   "cell_type": "code",
   "execution_count": 78,
   "metadata": {},
   "outputs": [
    {
     "data": {
      "text/plain": [
       "20"
      ]
     },
     "execution_count": 78,
     "metadata": {},
     "output_type": "execute_result"
    }
   ],
   "source": [
    "len(laps2024)"
   ]
  },
  {
   "cell_type": "markdown",
   "metadata": {},
   "source": [
    "Getting details from 2025 Bahrain Qualifying"
   ]
  },
  {
   "cell_type": "code",
   "execution_count": null,
   "metadata": {},
   "outputs": [],
   "source": []
  }
 ],
 "metadata": {
  "kernelspec": {
   "display_name": "base",
   "language": "python",
   "name": "python3"
  },
  "language_info": {
   "codemirror_mode": {
    "name": "ipython",
    "version": 3
   },
   "file_extension": ".py",
   "mimetype": "text/x-python",
   "name": "python",
   "nbconvert_exporter": "python",
   "pygments_lexer": "ipython3",
   "version": "3.12.4"
  }
 },
 "nbformat": 4,
 "nbformat_minor": 2
}
